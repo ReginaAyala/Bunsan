{
 "cells": [
  {
   "cell_type": "code",
   "execution_count": 13,
   "metadata": {},
   "outputs": [],
   "source": [
    "import numpy as np"
   ]
  },
  {
   "cell_type": "code",
   "execution_count": 40,
   "metadata": {},
   "outputs": [],
   "source": [
    "#Definir matriz\n",
    "MatrizMinas = np.array([['.','.','*'],['.','.','.']])"
   ]
  },
  {
   "cell_type": "code",
   "execution_count": 41,
   "metadata": {},
   "outputs": [
    {
     "name": "stdout",
     "output_type": "stream",
     "text": [
      "[['.' '.' '*']\n",
      " ['.' '.' '.']]\n"
     ]
    }
   ],
   "source": [
    "print(MatrizMinas)"
   ]
  },
  {
   "cell_type": "code",
   "execution_count": 42,
   "metadata": {},
   "outputs": [
    {
     "name": "stdout",
     "output_type": "stream",
     "text": [
      ".\n"
     ]
    }
   ],
   "source": [
    "print (MatrizMinas[1][1])"
   ]
  },
  {
   "cell_type": "code",
   "execution_count": 43,
   "metadata": {},
   "outputs": [],
   "source": [
    "for i in range(len(MatrizMinas)):  \n",
    "    for j in range (len(MatrizMinas[i])):\n",
    "        if('*' != MatrizMinas[i][j]):\n",
    "            MatrizMinas[i][j] = 0"
   ]
  },
  {
   "cell_type": "code",
   "execution_count": 44,
   "metadata": {},
   "outputs": [
    {
     "name": "stdout",
     "output_type": "stream",
     "text": [
      "[['0' '0' '*']\n",
      " ['0' '0' '0']]\n"
     ]
    }
   ],
   "source": [
    "print(MatrizMinas)"
   ]
  },
  {
   "cell_type": "code",
   "execution_count": 45,
   "metadata": {},
   "outputs": [
    {
     "name": "stdout",
     "output_type": "stream",
     "text": [
      "posicion 0 2\n"
     ]
    }
   ],
   "source": [
    "SalidaMatriz = MatrizMinas\n",
    "i=0\n",
    "j=0\n",
    "for i in range(len(MatrizMinas)):  \n",
    "    for j in range (len(MatrizMinas [i])):\n",
    "\n",
    "        if('*' == SalidaMatriz [i][j]):\n",
    "            print('posicion', i,j)\n",
    "            try:\n",
    "                SalidaMatriz [i][j+1] =  1 #derecha\n",
    "            except Exception:\n",
    "                pass\n",
    "            try:\n",
    "                SalidaMatriz [i][j-1] = 1 #izquierda\n",
    "            except Exception:\n",
    "                pass\n",
    "            try:\n",
    "                SalidaMatriz [i-1][j] = 1 #arriba\n",
    "            except Exception:\n",
    "                pass\n",
    "            try:\n",
    "                SalidaMatriz [i+1][j] = 1 #abajo\n",
    "            except Exception:\n",
    "                pass\n",
    "            try:\n",
    "                SalidaMatriz [i+1][j+1] = 1 #abajo derecha\n",
    "            except Exception:\n",
    "                pass\n",
    "            try:\n",
    "                SalidaMatriz [i+1][j-1] = 1 #abajo izquierda\n",
    "            except Exception:\n",
    "                pass\n",
    "            try:\n",
    "                SalidaMatriz [i-1][j-1] = 1 #arriba izquierda\n",
    "            except Exception:\n",
    "                pass\n",
    "            try:\n",
    "                SalidaMatriz [i-1][j+1] = 1 #arriba derecha\n",
    "            except Exception:\n",
    "                pass"
   ]
  },
  {
   "cell_type": "code",
   "execution_count": 46,
   "metadata": {},
   "outputs": [
    {
     "name": "stdout",
     "output_type": "stream",
     "text": [
      "[['0' '1' '*']\n",
      " ['0' '1' '1']]\n"
     ]
    }
   ],
   "source": [
    "print(SalidaMatriz)"
   ]
  }
 ],
 "metadata": {
  "interpreter": {
   "hash": "aee8b7b246df8f9039afb4144a1f6fd8d2ca17a180786b69acc140d282b71a49"
  },
  "kernelspec": {
   "display_name": "Python 3.10.2 64-bit",
   "language": "python",
   "name": "python3"
  },
  "language_info": {
   "codemirror_mode": {
    "name": "ipython",
    "version": 3
   },
   "file_extension": ".py",
   "mimetype": "text/x-python",
   "name": "python",
   "nbconvert_exporter": "python",
   "pygments_lexer": "ipython3",
   "version": "3.10.2"
  },
  "orig_nbformat": 4
 },
 "nbformat": 4,
 "nbformat_minor": 2
}
